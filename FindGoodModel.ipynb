{
 "cells": [
  {
   "cell_type": "code",
   "execution_count": 3,
   "metadata": {},
   "outputs": [],
   "source": [
    "from f3dasm import ExperimentData\n",
    "import numpy as np\n",
    "from pathlib import Path\n",
    "import pandas as pd\n",
    "import pandas as pd\n",
    "from sklearn.linear_model import LogisticRegression\n",
    "from sklearn.preprocessing import PolynomialFeatures # For Polynomial basis functions\n",
    "from sklearn.pipeline import make_pipeline # to link different objects\n",
    "from matplotlib import cm # to change colors of surface plots\n",
    "import matplotlib.pyplot as plt # import plotting tools to create figures"
   ]
  },
  {
   "cell_type": "code",
   "execution_count": 4,
   "id": "38a58ba5",
   "metadata": {},
   "outputs": [],
   "source": [
    "df_in_7d = pd.read_csv('data/supercompressible_7d_input.csv')\n",
    "df_out_7d = pd.read_csv('data/supercompressible_7d_output.csv')\n",
    "\n",
    "df_in_3d = pd.read_csv('data/supercompressible_3d_input.csv')\n",
    "df_out_3d = pd.read_csv('data/supercompressible_3d_output.csv')"
   ]
  },
  {
   "cell_type": "code",
   "execution_count": 5,
   "id": "6dbe2b5d",
   "metadata": {},
   "outputs": [],
   "source": [
    "X_3d = df_in_3d.loc[:, ['ratio_d','ratio_pitch','ratio_top_diameter'] ].values\n",
    "Y_3d_class = df_out_3d.loc[:, 'coilable'].values\n",
    "Y_3d_reg = df_out_3d.loc[:,['sigma_crit','energy']].values"
   ]
  },
  {
   "cell_type": "code",
   "execution_count": 6,
   "id": "877b25fc",
   "metadata": {},
   "outputs": [],
   "source": [
    "from sklearn.model_selection import train_test_split\n",
    "testset_ratio = 0.25\n",
    "SEED = 123\n",
    "X_3d_train, X_3d_test, Y_3d_class_train, Y_3d_class_test = train_test_split(X_3d,\n",
    "                                    Y_3d_class, test_size=testset_ratio,\n",
    "                                    random_state=SEED)\n",
    "\n",
    "from sklearn.preprocessing import StandardScaler\n",
    "scaler = StandardScaler()\n",
    "scaler.fit(X_3d_train)\n",
    "X_3d_train_scale=scaler.transform(X_3d_train)\n",
    "X_3d_test_scale=scaler.transform(X_3d_test)\n",
    "X_3d_scale=scaler.transform(X_3d)"
   ]
  },
  {
   "cell_type": "code",
   "execution_count": 7,
   "id": "3ef60729",
   "metadata": {},
   "outputs": [
    {
     "data": {
      "text/html": [
       "<style>#sk-container-id-1 {color: black;}#sk-container-id-1 pre{padding: 0;}#sk-container-id-1 div.sk-toggleable {background-color: white;}#sk-container-id-1 label.sk-toggleable__label {cursor: pointer;display: block;width: 100%;margin-bottom: 0;padding: 0.3em;box-sizing: border-box;text-align: center;}#sk-container-id-1 label.sk-toggleable__label-arrow:before {content: \"▸\";float: left;margin-right: 0.25em;color: #696969;}#sk-container-id-1 label.sk-toggleable__label-arrow:hover:before {color: black;}#sk-container-id-1 div.sk-estimator:hover label.sk-toggleable__label-arrow:before {color: black;}#sk-container-id-1 div.sk-toggleable__content {max-height: 0;max-width: 0;overflow: hidden;text-align: left;background-color: #f0f8ff;}#sk-container-id-1 div.sk-toggleable__content pre {margin: 0.2em;color: black;border-radius: 0.25em;background-color: #f0f8ff;}#sk-container-id-1 input.sk-toggleable__control:checked~div.sk-toggleable__content {max-height: 200px;max-width: 100%;overflow: auto;}#sk-container-id-1 input.sk-toggleable__control:checked~label.sk-toggleable__label-arrow:before {content: \"▾\";}#sk-container-id-1 div.sk-estimator input.sk-toggleable__control:checked~label.sk-toggleable__label {background-color: #d4ebff;}#sk-container-id-1 div.sk-label input.sk-toggleable__control:checked~label.sk-toggleable__label {background-color: #d4ebff;}#sk-container-id-1 input.sk-hidden--visually {border: 0;clip: rect(1px 1px 1px 1px);clip: rect(1px, 1px, 1px, 1px);height: 1px;margin: -1px;overflow: hidden;padding: 0;position: absolute;width: 1px;}#sk-container-id-1 div.sk-estimator {font-family: monospace;background-color: #f0f8ff;border: 1px dotted black;border-radius: 0.25em;box-sizing: border-box;margin-bottom: 0.5em;}#sk-container-id-1 div.sk-estimator:hover {background-color: #d4ebff;}#sk-container-id-1 div.sk-parallel-item::after {content: \"\";width: 100%;border-bottom: 1px solid gray;flex-grow: 1;}#sk-container-id-1 div.sk-label:hover label.sk-toggleable__label {background-color: #d4ebff;}#sk-container-id-1 div.sk-serial::before {content: \"\";position: absolute;border-left: 1px solid gray;box-sizing: border-box;top: 0;bottom: 0;left: 50%;z-index: 0;}#sk-container-id-1 div.sk-serial {display: flex;flex-direction: column;align-items: center;background-color: white;padding-right: 0.2em;padding-left: 0.2em;position: relative;}#sk-container-id-1 div.sk-item {position: relative;z-index: 1;}#sk-container-id-1 div.sk-parallel {display: flex;align-items: stretch;justify-content: center;background-color: white;position: relative;}#sk-container-id-1 div.sk-item::before, #sk-container-id-1 div.sk-parallel-item::before {content: \"\";position: absolute;border-left: 1px solid gray;box-sizing: border-box;top: 0;bottom: 0;left: 50%;z-index: -1;}#sk-container-id-1 div.sk-parallel-item {display: flex;flex-direction: column;z-index: 1;position: relative;background-color: white;}#sk-container-id-1 div.sk-parallel-item:first-child::after {align-self: flex-end;width: 50%;}#sk-container-id-1 div.sk-parallel-item:last-child::after {align-self: flex-start;width: 50%;}#sk-container-id-1 div.sk-parallel-item:only-child::after {width: 0;}#sk-container-id-1 div.sk-dashed-wrapped {border: 1px dashed gray;margin: 0 0.4em 0.5em 0.4em;box-sizing: border-box;padding-bottom: 0.4em;background-color: white;}#sk-container-id-1 div.sk-label label {font-family: monospace;font-weight: bold;display: inline-block;line-height: 1.2em;}#sk-container-id-1 div.sk-label-container {text-align: center;}#sk-container-id-1 div.sk-container {/* jupyter's `normalize.less` sets `[hidden] { display: none; }` but bootstrap.min.css set `[hidden] { display: none !important; }` so we also need the `!important` here to be able to override the default hidden behavior on the sphinx rendered scikit-learn.org. See: https://github.com/scikit-learn/scikit-learn/issues/21755 */display: inline-block !important;position: relative;}#sk-container-id-1 div.sk-text-repr-fallback {display: none;}</style><div id=\"sk-container-id-1\" class=\"sk-top-container\"><div class=\"sk-text-repr-fallback\"><pre>SVC(gamma=0.7)</pre><b>In a Jupyter environment, please rerun this cell to show the HTML representation or trust the notebook. <br />On GitHub, the HTML representation is unable to render, please try loading this page with nbviewer.org.</b></div><div class=\"sk-container\" hidden><div class=\"sk-item\"><div class=\"sk-estimator sk-toggleable\"><input class=\"sk-toggleable__control sk-hidden--visually\" id=\"sk-estimator-id-1\" type=\"checkbox\" checked><label for=\"sk-estimator-id-1\" class=\"sk-toggleable__label sk-toggleable__label-arrow\">SVC</label><div class=\"sk-toggleable__content\"><pre>SVC(gamma=0.7)</pre></div></div></div></div></div>"
      ],
      "text/plain": [
       "SVC(gamma=0.7)"
      ]
     },
     "execution_count": 7,
     "metadata": {},
     "output_type": "execute_result"
    }
   ],
   "source": [
    "from sklearn import svm\n",
    "# we create an instance of SVM and fit out data. We did not scale our data (this dataset is quite simple)\n",
    "\n",
    "SVM_model = svm.SVC(kernel='rbf',gamma=0.7,C=1.0) # - kernel like in GPs\n",
    "                                                    # - gamma is the kernel hyperparameter (here: length-scale)\n",
    "                                                    # - C is a l2 regularization parameter (strength of \n",
    "                                                    #   regularization is inversely proportional to C)\n",
    "\n",
    "SVM_model.fit(X_3d_train_scale, Y_3d_class_train) # HERE WE ARE USING ONLY 2 FEATURES TO FIT THE MODEL!\n",
    "                                           # This is just to assess the predictive power of the SVC even though\n",
    "                                           #  it is only using 2 features for training.\n",
    "                                           # REMEMBER: WE USUALLY USE ALL FEATURES WHEN TRAINING A MODEL."
   ]
  },
  {
   "cell_type": "code",
   "execution_count": 8,
   "metadata": {},
   "outputs": [
    {
     "data": {
      "text/plain": [
       "0.816"
      ]
     },
     "execution_count": 8,
     "metadata": {},
     "output_type": "execute_result"
    }
   ],
   "source": [
    "from sklearn.metrics import accuracy_score\n",
    "y_class_SVM_pred_test = SVM_model.predict(X_3d_test_scale)\n",
    "accuracy_score(Y_3d_class_test,y_class_SVM_pred_test)"
   ]
  },
  {
   "cell_type": "code",
   "execution_count": 9,
   "id": "bc7b9958",
   "metadata": {},
   "outputs": [],
   "source": [
    "x1, x2, x3 = X_3d_scale[:, 0], X_3d_scale[:, 1], X_3d_scale[:,2]\n",
    "\n",
    "x1_data_min, x1_data_max = x1.min() - 0.005, x1.max() + 0.005 # define min & max of feature 0\n",
    "x2_data_min, x2_data_max = x2.min() - 0.005, x2.max() + 0.005 # define min & max of feature 0\n",
    "#x3_data_min, x3_data_max = x3.min() - 0.005, x3.max() + 0.005 # define min & max of feature 0\n",
    "\n",
    "plot_step = 5e-2 # defining the meshgrid step size\n",
    "\n",
    "X1_data_grid, X2_data_grid = np.meshgrid(np.arange(x1_data_min, x1_data_max, plot_step),\n",
    "                                         np.arange(x2_data_min, x2_data_max, plot_step))\n",
    "\n",
    "len(np.arange(x1_data_min, x1_data_max, plot_step))\n",
    "len(np.arange(x2_data_min, x2_data_max, plot_step))\n",
    "\n",
    "X1_data_space = np.zeros((len(np.arange(x1_data_min, x1_data_max, plot_step)),len(np.arange(x2_data_min, x2_data_max, plot_step)),len(x3)))\n",
    "X2_data_space = np.zeros((len(np.arange(x1_data_min, x1_data_max, plot_step)),len(np.arange(x2_data_min, x2_data_max, plot_step)),len(x3)))\n",
    "X3_data_space = np.zeros((len(np.arange(x1_data_min, x1_data_max, plot_step)),len(np.arange(x2_data_min, x2_data_max, plot_step)),len(x3)))\n",
    "\n",
    "for i in range(len(np.arange(x1_data_min, x1_data_max, plot_step))):\n",
    "    for j in range(len(np.arange(x2_data_min, x2_data_max, plot_step))):\n",
    "        for k in range(len(x3)):\n",
    "            X1_data_space[i,j,k] = X1_data_grid[j,i]\n",
    "            X2_data_space[i,j,k] = X2_data_grid[j,i]\n",
    "            X3_data_space[i,j,k] = x3[k]\n",
    "\n",
    "y_class_SVM_pred_disp = SVM_model.predict(np.c_[X1_data_space.ravel(), X2_data_space.ravel(), X3_data_space.ravel()])\n",
    "y_class_SVM_pred_disp_grid = y_class_SVM_pred_disp.reshape(X1_data_space.shape)\n"
   ]
  },
  {
   "cell_type": "code",
   "execution_count": 10,
   "id": "1a271bab",
   "metadata": {},
   "outputs": [
    {
     "data": {
      "text/plain": [
       "Text(0.5, 1.0, 'Support Vector Machine Classifier (SVC) with RBF kernel with ratio_top_diameter')"
      ]
     },
     "execution_count": 10,
     "metadata": {},
     "output_type": "execute_result"
    },
    {
     "data": {
      "image/png": "[encoded data removed]",
      "text/plain": [
       "<Figure size 640x480 with 1 Axes>"
      ]
     },
     "metadata": {},
     "output_type": "display_data"
    }
   ],
   "source": [
    "temp_sample = 5\n",
    "temp_disp = y_class_SVM_pred_disp_grid[:,:,temp_sample]\n",
    "temp_x1 = X1_data_space[:,:,temp_sample]\n",
    "temp_x2 = X2_data_space[:,:,temp_sample]\n",
    "temp_x3 = x3[temp_sample]\n",
    "\n",
    "plot_colors = 'ryb' # defining the 3 colors for each category\n",
    "n_classes = 3\n",
    "target_names = ['Not coilable','coilable','coilable but yield']\n",
    "\n",
    "fig2, ax2 = plt.subplots(tight_layout=True)\n",
    "plt.subplots_adjust(wspace=0.4, hspace=0.4)\n",
    "\n",
    "ax2.contourf(temp_x2, temp_x1, temp_disp, cmap=cm.RdYlBu, alpha=0.8)\n",
    "\n",
    "# Plot the training points\n",
    "ax2.scatter(X_3d_scale[temp_sample, 1], X_3d_scale[temp_sample, 0], c=plot_colors[Y_3d_class[temp_sample]],\n",
    "                label=(Y_3d_class[temp_sample],X_3d_scale[temp_sample, 2]), edgecolor='black', s=15)\n",
    "\n",
    "ax2.set_ylim(temp_x1.min(), temp_x1.max())\n",
    "ax2.set_xlim(temp_x2.min(), temp_x2.max())\n",
    "ax2.set_ylabel('ratio_d', fontsize=20)\n",
    "ax2.set_xlabel('ratio_pitch', fontsize=20)\n",
    "#ax2.set_xticks(())\n",
    "#ax2.set_yticks(())\n",
    "ax2.legend(loc='lower right', borderpad=0, handletextpad=0, fontsize=15)\n",
    "ax2.set_title('Support Vector Machine Classifier (SVC) with RBF kernel with ratio_top_diameter', fontsize=20)\n",
    "\n",
    "#plt.close(fig2)"
   ]
  },
  {
   "cell_type": "code",
   "execution_count": 11,
   "id": "6d8af80b",
   "metadata": {},
   "outputs": [
    {
     "data": {
      "text/html": [
       "<div>\n",
       "<style scoped>\n",
       "    .dataframe tbody tr th:only-of-type {\n",
       "        vertical-align: middle;\n",
       "    }\n",
       "\n",
       "    .dataframe tbody tr th {\n",
       "        vertical-align: top;\n",
       "    }\n",
       "\n",
       "    .dataframe thead th {\n",
       "        text-align: right;\n",
       "    }\n",
       "</style>\n",
       "<table border=\"1\" class=\"dataframe\">\n",
       "  <thead>\n",
       "    <tr style=\"text-align: right;\">\n",
       "      <th></th>\n",
       "      <th>Unnamed: 0</th>\n",
       "      <th>coilable</th>\n",
       "      <th>sigma_crit</th>\n",
       "      <th>energy</th>\n",
       "    </tr>\n",
       "  </thead>\n",
       "  <tbody>\n",
       "    <tr>\n",
       "      <th>0</th>\n",
       "      <td>0</td>\n",
       "      <td>1</td>\n",
       "      <td>0.000494</td>\n",
       "      <td>0.000280</td>\n",
       "    </tr>\n",
       "    <tr>\n",
       "      <th>1</th>\n",
       "      <td>1</td>\n",
       "      <td>0</td>\n",
       "      <td>NaN</td>\n",
       "      <td>NaN</td>\n",
       "    </tr>\n",
       "    <tr>\n",
       "      <th>2</th>\n",
       "      <td>2</td>\n",
       "      <td>2</td>\n",
       "      <td>23.052002</td>\n",
       "      <td>14.285320</td>\n",
       "    </tr>\n",
       "    <tr>\n",
       "      <th>3</th>\n",
       "      <td>3</td>\n",
       "      <td>0</td>\n",
       "      <td>0.693775</td>\n",
       "      <td>NaN</td>\n",
       "    </tr>\n",
       "    <tr>\n",
       "      <th>4</th>\n",
       "      <td>4</td>\n",
       "      <td>1</td>\n",
       "      <td>2.887962</td>\n",
       "      <td>NaN</td>\n",
       "    </tr>\n",
       "    <tr>\n",
       "      <th>...</th>\n",
       "      <td>...</td>\n",
       "      <td>...</td>\n",
       "      <td>...</td>\n",
       "      <td>...</td>\n",
       "    </tr>\n",
       "    <tr>\n",
       "      <th>995</th>\n",
       "      <td>995</td>\n",
       "      <td>0</td>\n",
       "      <td>NaN</td>\n",
       "      <td>NaN</td>\n",
       "    </tr>\n",
       "    <tr>\n",
       "      <th>996</th>\n",
       "      <td>996</td>\n",
       "      <td>1</td>\n",
       "      <td>4.968690</td>\n",
       "      <td>2.928651</td>\n",
       "    </tr>\n",
       "    <tr>\n",
       "      <th>997</th>\n",
       "      <td>997</td>\n",
       "      <td>2</td>\n",
       "      <td>50.932128</td>\n",
       "      <td>31.343168</td>\n",
       "    </tr>\n",
       "    <tr>\n",
       "      <th>998</th>\n",
       "      <td>998</td>\n",
       "      <td>2</td>\n",
       "      <td>20.329816</td>\n",
       "      <td>NaN</td>\n",
       "    </tr>\n",
       "    <tr>\n",
       "      <th>999</th>\n",
       "      <td>999</td>\n",
       "      <td>0</td>\n",
       "      <td>0.095642</td>\n",
       "      <td>NaN</td>\n",
       "    </tr>\n",
       "  </tbody>\n",
       "</table>\n",
       "<p>1000 rows × 4 columns</p>\n",
       "</div>"
      ],
      "text/plain": [
       "     Unnamed: 0  coilable  sigma_crit     energy\n",
       "0             0         1    0.000494   0.000280\n",
       "1             1         0         NaN        NaN\n",
       "2             2         2   23.052002  14.285320\n",
       "3             3         0    0.693775        NaN\n",
       "4             4         1    2.887962        NaN\n",
       "..          ...       ...         ...        ...\n",
       "995         995         0         NaN        NaN\n",
       "996         996         1    4.968690   2.928651\n",
       "997         997         2   50.932128  31.343168\n",
       "998         998         2   20.329816        NaN\n",
       "999         999         0    0.095642        NaN\n",
       "\n",
       "[1000 rows x 4 columns]"
      ]
     },
     "execution_count": 11,
     "metadata": {},
     "output_type": "execute_result"
    }
   ],
   "source": [
    "\n",
    "df_out_3d    "
   ]
  },
  {
   "cell_type": "code",
   "execution_count": 12,
   "id": "b435fab4",
   "metadata": {},
   "outputs": [],
   "source": [
    "df_3d = pd.concat([df_in_3d, df_out_3d], axis=1)\n",
    "\n",
    "# look at the # of missing points in the first ten columns\n",
    "df_3d_drop_nan = df_3d.dropna()\n",
    "\n",
    "X_3d_regression = df_3d_drop_nan.loc[:, ['ratio_d','ratio_pitch','ratio_top_diameter'] ].values\n",
    "Y_3d_regression_sigma = df_3d_drop_nan.loc[:, ['sigma_crit'] ].values\n",
    "Y_3d_regression_energy = df_3d_drop_nan.loc[:, ['energy'] ].values\n",
    "\n",
    "\n",
    "X_3d_train_regression, X_3d_test_regression, Y_3d_train_regression_sigma, Y_3d_test_regression_sigma, Y_3d_train_regression_energy, Y_3d_test_regression_energy = train_test_split(X_3d_regression,\n",
    "                                    Y_3d_regression_sigma,Y_3d_regression_energy, test_size=testset_ratio,\n",
    "                                    random_state=SEED)\n",
    "\n",
    "scaler_regression_x = StandardScaler()\n",
    "scaler_regression_x.fit(X_3d_train_regression)\n",
    "X_3d_train_regression_scale=scaler_regression_x.transform(X_3d_train_regression)\n",
    "X_3d_test_regression_scale=scaler_regression_x.transform(X_3d_test_regression)\n",
    "X_3d_regression_scale=scaler_regression_x.transform(X_3d_regression)\n",
    "\n",
    "scaler_regression_sigma_y = StandardScaler()\n",
    "scaler_regression_sigma_y.fit(Y_3d_train_regression_sigma)\n",
    "Y_3d_train_regression_sigma_scale=scaler_regression_sigma_y.transform(Y_3d_train_regression_sigma)\n",
    "Y_3d_test_regression_sigma_scale=scaler_regression_sigma_y.transform(Y_3d_test_regression_sigma)\n",
    "Y_3d_regression_sigma_scale=scaler_regression_sigma_y.transform(Y_3d_regression_sigma)\n",
    "\n",
    "scaler_regression_energy_y = StandardScaler()\n",
    "scaler_regression_energy_y.fit(Y_3d_train_regression_energy)\n",
    "Y_3d_train_regression_energy_scale=scaler_regression_energy_y.transform(Y_3d_train_regression_energy)\n",
    "Y_3d_test_regression_energy_scale=scaler_regression_energy_y.transform(Y_3d_test_regression_energy)\n",
    "Y_3d_regression_energy_scale=scaler_regression_energy_y.transform(Y_3d_regression_energy)"
   ]
  },
  {
   "cell_type": "code",
   "execution_count": 13,
   "metadata": {},
   "outputs": [
    {
     "name": "stdout",
     "output_type": "stream",
     "text": [
      "0.9998109921879373\n",
      "0.00017083324705044622\n",
      "0.9953722499511284\n",
      "0.004314007908032823\n"
     ]
    }
   ],
   "source": [
    "from sklearn.gaussian_process import GaussianProcessRegressor\n",
    "from sklearn.gaussian_process.kernels import RBF, Matern, ExpSineSquared, ConstantKernel, WhiteKernel\n",
    "kernel = Matern(length_scale=1.0, length_scale_bounds=(1e-2, 1e2),nu=2.5)\n",
    "\n",
    "gp_model_sigma = GaussianProcessRegressor(kernel=kernel, alpha=1e-3, optimizer='fmin_l_bfgs_b', n_restarts_optimizer=20)\n",
    "gp_model_sigma.fit(X_3d_train_regression_scale, Y_3d_train_regression_sigma_scale)\n",
    "\n",
    "gp_model_energy = GaussianProcessRegressor(kernel=kernel, alpha=1e-3, optimizer='fmin_l_bfgs_b', n_restarts_optimizer=20)\n",
    "gp_model_energy.fit(X_3d_train_regression_scale, Y_3d_train_regression_energy_scale)\n",
    "\n",
    "from sklearn.metrics import r2_score, mean_squared_error\n",
    "\n",
    "y_3d_test_pred_sigma, sigma = gp_model_sigma.predict(X_3d_test_regression_scale, return_std=True) # also output the uncertainty (std)\n",
    "r2_sigma = r2_score(Y_3d_test_regression_sigma_scale,y_3d_test_pred_sigma)\n",
    "mse_sigma = mean_squared_error(Y_3d_test_regression_sigma_scale,y_3d_test_pred_sigma)\n",
    "\n",
    "print(r2_sigma)\n",
    "print(mse_sigma)\n",
    "\n",
    "y_3d_test_pred_energy, sigma = gp_model_sigma.predict(X_3d_test_regression_scale, return_std=True) # also output the uncertainty (std)\n",
    "r2_energy = r2_score(Y_3d_test_regression_energy_scale,y_3d_test_pred_energy)\n",
    "mse_energy = mean_squared_error(Y_3d_test_regression_energy_scale,y_3d_test_pred_energy)\n",
    "\n",
    "print(r2_energy)\n",
    "print(mse_energy)"
   ]
  }
 ],
 "metadata": {
  "kernelspec": {
   "display_name": "3dasm",
   "language": "python",
   "name": "python3"
  },
  "language_info": {
   "codemirror_mode": {
    "name": "ipython",
    "version": 3
   },
   "file_extension": ".py",
   "mimetype": "text/x-python",
   "name": "python",
   "nbconvert_exporter": "python",
   "pygments_lexer": "ipython3",
   "version": "3.10.12"
  }
 },
 "nbformat": 4,
 "nbformat_minor": 5
}
