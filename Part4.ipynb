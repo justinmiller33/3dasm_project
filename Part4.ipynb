{
 "cells": [
  {
   "cell_type": "code",
   "execution_count": 63,
   "metadata": {},
   "outputs": [],
   "source": [
    "#import libraries\n",
    "import numpy as np\n",
    "from pathlib import Path\n",
    "import pandas as pd\n",
    "from matplotlib import cm\n",
    "import matplotlib.pyplot as plt\n",
    "from sklearn.gaussian_process import GaussianProcessRegressor,GaussianProcessClassifier\n",
    "from sklearn.gaussian_process.kernels import RBF, Matern\n",
    "from sklearn.model_selection import train_test_split\n",
    "from sklearn.preprocessing import StandardScaler\n",
    "from sklearn.preprocessing import StandardScaler, FunctionTransformer\n",
    "from sklearn.metrics import accuracy_score, precision_score, recall_score, f1_score, confusion_matrix\n",
    "from sklearn.metrics import r2_score, mean_squared_error\n",
    "from sklearn import svm\n",
    "from sklearn.model_selection import GridSearchCV\n"
   ]
  },
  {
   "cell_type": "code",
   "execution_count": 64,
   "id": "38a58ba5",
   "metadata": {},
   "outputs": [],
   "source": [
    "# Read 7D dataset \n",
    "df_in_7d = pd.read_csv('data/supercompressible_7d_input.csv')\n",
    "df_out_7d = pd.read_csv('data/supercompressible_7d_output.csv')\n",
    "\n",
    "# Read 3D dataset \n",
    "df_in_3d = pd.read_csv('data/supercompressible_3d_input.csv')\n",
    "df_out_3d = pd.read_csv('data/supercompressible_3d_output.csv')"
   ]
  },
  {
   "cell_type": "code",
   "execution_count": 65,
   "metadata": {},
   "outputs": [],
   "source": [
    "# define a function to do the preprocessing\n",
    "# Input: input_raw_data, output_raw_data, problem_class\n",
    "# input_raw_data: pandas dataframe for input\n",
    "# output_raw_data: pandas dataframe for output\n",
    "# problem_class: (booler) to describe this preprocess is for classification problem or not\n",
    "#                this will lead to different scaler for Y data.\n",
    "#\n",
    "# Output: X_train_scale, X_test_scale, X_scale, Y_train_scale, Y_test_scale, Y_scale, scaler_x, scaler_y\n",
    "# scaler_x: (scaler) used to do inverse_transfer after prediction\n",
    "# scaler_y: (scaler) used to do inverse_transfer after prediction\n",
    "\n",
    "def preprocess_3d(input_raw_data,output_raw_data,problem_class):\n",
    "    if problem_class == False: # regression problem's preprocess\n",
    "        raw_data = pd.concat([input_raw_data, output_raw_data], axis=1)\n",
    "        raw_data_drop_nan = raw_data.dropna() # drop those points whose\n",
    "\n",
    "        X_3d = raw_data_drop_nan.loc[:, ['ratio_d','ratio_pitch','ratio_top_diameter'] ].values\n",
    "        Y_3d = raw_data_drop_nan.loc[:, ['sigma_crit','energy'] ].values\n",
    "        \n",
    "        testset_ratio = 0.25\n",
    "        SEED = 123\n",
    "        X_train, X_test, Y_train, Y_test = train_test_split(X_3d,\n",
    "                                            Y_3d, test_size=testset_ratio,\n",
    "                                            random_state=SEED)\n",
    "\n",
    "        scaler_x = StandardScaler()\n",
    "        scaler_x.fit(X_train)\n",
    "        X_train_scale=scaler_x.transform(X_train)\n",
    "        X_test_scale=scaler_x.transform(X_test)\n",
    "        X_scale=scaler_x.transform(X_3d)\n",
    "        \n",
    "        scaler_y = StandardScaler()\n",
    "        scaler_y.fit(Y_train)\n",
    "        Y_train_scale = scaler_y.transform(Y_train)\n",
    "        Y_test_scale = scaler_y.transform(Y_test)\n",
    "        Y_scale = scaler_y.transform(Y_3d)\n",
    "    else: # classification problem's preprocess\n",
    "        X_3d = input_raw_data.loc[:, ['ratio_d','ratio_pitch','ratio_top_diameter'] ].values\n",
    "        Y_3d = output_raw_data.loc[:, 'coilable'].values\n",
    "        \n",
    "        testset_ratio = 0.25\n",
    "        SEED = 123\n",
    "        X_train, X_test, Y_train, Y_test = train_test_split(X_3d,\n",
    "                                            Y_3d, test_size=testset_ratio,\n",
    "                                            random_state=SEED)\n",
    "\n",
    "        scaler_x = StandardScaler()\n",
    "        scaler_x.fit(X_train)\n",
    "        X_train_scale=scaler_x.transform(X_train)\n",
    "        X_test_scale=scaler_x.transform(X_test)\n",
    "        X_scale=scaler_x.transform(X_3d)\n",
    "\n",
    "        scaler_y = FunctionTransformer() # FunctionTransformer without input will give a Identity scaler\n",
    "        Y_train_scale = scaler_y.transform(Y_train)\n",
    "        Y_test_scale = scaler_y.transform(Y_test)\n",
    "        Y_scale = scaler_y.transform(Y_3d)\n",
    "\n",
    "    return X_train_scale, X_test_scale, X_scale, Y_train_scale, Y_test_scale, Y_scale, scaler_x, scaler_y"
   ]
  },
  {
   "cell_type": "code",
   "execution_count": 66,
   "id": "877b25fc",
   "metadata": {},
   "outputs": [],
   "source": [
    "X_train_scale_class, X_test_scale_class, X_scale_class, Y_train_scale_class, Y_test_scale_class, Y_scale_class, scaler_x_class, scaler_y_class = preprocess_3d(df_in_3d,df_out_3d,True)\n",
    "X_train_scale_regression, X_test_scale_regression, X_scale_regression, Y_train_scale_regression, Y_test_scale_regression, Y_scale_regression, scaler_x_regression, scaler_y_regression = preprocess_3d(df_in_3d,df_out_3d,False)"
   ]
  },
  {
   "cell_type": "code",
   "execution_count": 67,
   "metadata": {},
   "outputs": [],
   "source": [
    "# Define function to do the model training and predicting\n",
    "# Input: X_train,X_test,X_data,Y_train,Y_test,Y_data,scaler_x, scaler_y,model\n",
    "# X_train,X_test,X_data,Y_train,Y_test,Y_data,scaler_x, scaler_y,: scaled data set for classification\n",
    "# model: any model for predict classification problem\n",
    "#\n",
    "# Output: ac_score,pr_score,re_score,f_one_score,con_matrix\n",
    "# ac_score: accuracy_score with test sample\n",
    "# pr_score: precision_score with test sample\n",
    "# re_score: recall_score with test sample\n",
    "# f_one_score: f1_score with test sample\n",
    "# con_matrix: confusion_matrix with test sample \n",
    "\n",
    "def classification_model_train_and_predict(X_train,X_test,X_data,Y_train,Y_test,Y_data,scaler_x, scaler_y,model):\n",
    "    model.fit(X_train,Y_train)\n",
    "    Y_predict_for_test = model.predict(X_test)\n",
    "    ac_score = accuracy_score(Y_test,Y_predict_for_test)\n",
    "    pr_score = precision_score(Y_test,Y_predict_for_test,average=None)\n",
    "    re_score = recall_score(Y_test,Y_predict_for_test,average=None)\n",
    "    f_one_score = f1_score(Y_test,Y_predict_for_test,average=None)\n",
    "    con_matrix = confusion_matrix(Y_test,Y_predict_for_test)\n",
    "\n",
    "    #classification_model_plot(X_data,Y_data,scaler_x, scaler_y,model,249,20)\n",
    "    # this function is not necessary for Part4\n",
    "\n",
    "    return ac_score,pr_score,re_score,f_one_score,con_matrix"
   ]
  },
  {
   "cell_type": "code",
   "execution_count": 84,
   "metadata": {},
   "outputs": [
    {
     "name": "stdout",
     "output_type": "stream",
     "text": [
      "0.852\n",
      "[0.92307692 0.74468085 0.848     ]\n",
      "[0.92307692 0.66037736 0.8907563 ]\n",
      "[0.92307692 0.7        0.86885246]\n",
      "[[ 72   3   3]\n",
      " [  2  35  16]\n",
      " [  4   9 106]]\n",
      "{'C': 100, 'gamma': 0.8}\n"
     ]
    }
   ],
   "source": [
    "# Define SVM model\n",
    "svm_model = svm.SVC(kernel='rbf')\n",
    "\n",
    "# Set up the parameter grid\n",
    "parameter_grid = {'C': [50,80,100,200,1000,10000], \n",
    "                  'gamma': [0.75, 0.8, 0.85, 0.9, 0.95, 1]}\n",
    "\n",
    "# Configure GridSearchCV\n",
    "grid_search = GridSearchCV(svm_model, parameter_grid, cv=5)\n",
    "\n",
    "# Fit the grid search model\n",
    "grid_search.fit(X_train_scale_class, Y_train_scale_class)\n",
    "\n",
    "# Find the best parameters and score\n",
    "best_parameters = grid_search.best_params_\n",
    "best_score = grid_search.best_score_\n",
    "\n",
    "# Create and fit the optimal model\n",
    "optimal_model = svm.SVC(kernel='rbf', C=best_parameters['C'], gamma=best_parameters['gamma'])\n",
    "\n",
    "ac_score,pr_score,re_score,f_one_score,con_matrix = classification_model_train_and_predict(X_train_scale_class, X_test_scale_class, X_scale_class, Y_train_scale_class, Y_test_scale_class, Y_scale_class,scaler_x_class, scaler_y_class,optimal_model)\n",
    "print(ac_score)\n",
    "print(pr_score)\n",
    "print(re_score)\n",
    "print(f_one_score)\n",
    "print(con_matrix)\n",
    "print(best_parameters)"
   ]
  },
  {
   "cell_type": "code",
   "execution_count": 70,
   "metadata": {},
   "outputs": [],
   "source": [
    "# Define function to do the model training and predicting\n",
    "# Input: X_train,X_test,X_data,Y_train,Y_test,Y_data,scaler_x, scaler_y,model\n",
    "# X_train,X_test,X_data,Y_train,Y_test,Y_data,scaler_x, scaler_y,: scaled data set for classification\n",
    "# model: any model for regression problem\n",
    "#\n",
    "# Output: r2, mse\n",
    "# r2: r2_score with test sample of trianing and testing result\n",
    "# mse: mean squared error of trianing and testing result\n",
    "\n",
    "\n",
    "def regression_model_train_and_predict(X_train,X_test,X_data,Y_train,Y_test,Y_data,scaler_x,scaler_y,model):\n",
    "    model.fit(X_train,Y_train)\n",
    "    Y_predict_for_test = model.predict(X_test)\n",
    "    r2 = r2_score(Y_test,Y_predict_for_test)\n",
    "    mse = mean_squared_error(Y_test,Y_predict_for_test)\n",
    "\n",
    "    # regression_model_plot(X_data,Y_data,scaler_x,scaler_y,model,5,10,True)\n",
    "    # this function is not necessary in Part4\n",
    "\n",
    "    return r2, mse"
   ]
  },
  {
   "cell_type": "code",
   "execution_count": 71,
   "metadata": {},
   "outputs": [
    {
     "name": "stdout",
     "output_type": "stream",
     "text": [
      "0.9993278047895235\n",
      "0.0006239489395312133\n"
     ]
    }
   ],
   "source": [
    "kernel = Matern(length_scale=1.0, length_scale_bounds=(1e-5, 1e5),nu=2.5)\n",
    "gpr_model = GaussianProcessRegressor(kernel=kernel, alpha=1e-3, optimizer='fmin_l_bfgs_b', n_restarts_optimizer=20)\n",
    "\n",
    "r2, mse = regression_model_train_and_predict(X_train_scale_regression, X_test_scale_regression, X_scale_regression, Y_train_scale_regression, Y_test_scale_regression, Y_scale_regression,scaler_x_regression, scaler_y_regression,gpr_model)\n",
    "\n",
    "print(r2)\n",
    "print(mse)"
   ]
  },
  {
   "cell_type": "markdown",
   "metadata": {},
   "source": [
    "## search for the optimum points"
   ]
  },
  {
   "cell_type": "code",
   "execution_count": 85,
   "metadata": {},
   "outputs": [],
   "source": [
    "def find_best_point_in_dataset(X_data,Y_data,scaler_x_regression,scaler_x_class, scaler_y,class_model,regression_model):\n",
    "    X_data_not_scale = scaler_x_regression.inverse_transform(X_data)\n",
    "    X_scale_class = scaler_x_class.transform(X_data_not_scale)\n",
    "    y_class_pred = class_model.predict(X_scale_class)\n",
    "    coilable_points_x = []\n",
    "    coilable_points_y = []\n",
    "\n",
    "    X_data_inverse = scaler_x_regression.inverse_transform(X_data)\n",
    "    #Y_data = regression_model.predict(X_data)\n",
    "    Y_data_inverse = scaler_y.inverse_transform(Y_data)\n",
    "    for class_pred_index in range(len(y_class_pred)):\n",
    "        if y_class_pred[class_pred_index] == 1:\n",
    "            coilable_points_x.append(X_data_inverse[class_pred_index,:])\n",
    "            coilable_points_y.append(Y_data_inverse[class_pred_index,:])\n",
    "            \n",
    "    best_simga = coilable_points_y[0][0]\n",
    "    best_sigma_index = 0\n",
    "    best_energy = coilable_points_y[0][1]\n",
    "    best_energy_index = 0\n",
    "\n",
    "    for index in range(len(coilable_points_x)):\n",
    "        if coilable_points_y[index][0] > best_simga:\n",
    "            best_sigma = coilable_points_y[index][0]\n",
    "            best_sigma_index = index\n",
    "        if coilable_points_y[index][1] > best_energy:\n",
    "            best_energy = coilable_points_y[index][1]\n",
    "            best_energy_index = index\n",
    "\n",
    "    best_sigma_input = coilable_points_x[best_sigma_index]\n",
    "    best_energy_input = coilable_points_x[best_energy_index]\n",
    "\n",
    "    return best_sigma,best_energy,best_sigma_input,best_energy_input\n",
    "    \n"
   ]
  },
  {
   "cell_type": "code",
   "execution_count": 73,
   "metadata": {},
   "outputs": [
    {
     "name": "stdout",
     "output_type": "stream",
     "text": [
      "4.968689999374499\n",
      "3.7321415827498914\n",
      "[0.03209863 0.44897461 0.66484375]\n",
      "[0.0337832  0.32080078 0.7578125 ]\n"
     ]
    }
   ],
   "source": [
    "best_sigma,best_energy,best_sigma_input,best_energy_input = find_best_point_in_dataset(X_scale_regression,Y_scale_regression,scaler_x_regression,scaler_x_class,scaler_y_regression,optimal_model,gpr_model)\n",
    "print(best_sigma)\n",
    "print(best_energy)\n",
    "print(best_sigma_input)\n",
    "print(best_energy_input)"
   ]
  },
  {
   "cell_type": "markdown",
   "metadata": {},
   "source": [
    "## different optimization algorithms"
   ]
  },
  {
   "cell_type": "code",
   "execution_count": 100,
   "metadata": {},
   "outputs": [
    {
     "name": "stdout",
     "output_type": "stream",
     "text": [
      "[1]\n",
      "[[96.17689161 55.63726004]]\n"
     ]
    }
   ],
   "source": [
    "svc = optimal_model  # Your trained SVC model\n",
    "gpr = gpr_model \n",
    "\n",
    "test = scaler_x_class.transform([[0.0729,1.1426,0.5092]])\n",
    "print(svc.predict(test))\n",
    "\n",
    "print(scaler_y_regression.inverse_transform(gpr.predict(scaler_x_regression.transform([[0.0729,1.1426,0.5092]]))))"
   ]
  },
  {
   "cell_type": "code",
   "execution_count": 101,
   "metadata": {},
   "outputs": [
    {
     "name": "stdout",
     "output_type": "stream",
     "text": [
      "Optimization terminated successfully.\n",
      "         Current function value: -118.430763\n",
      "         Iterations: 101\n",
      "         Function evaluations: 198\n",
      "Optimization terminated successfully.\n",
      "         Current function value: -47.588573\n",
      "         Iterations: 268\n",
      "         Function evaluations: 506\n",
      "Optimal Sigma: 118.43076265023691\n",
      "Optimal Sigma inputs: [0.07635208 0.97726287 0.52648994]\n",
      "Optimal Energy: 47.58857328667068\n",
      "Optimal Energy inputs: [0.06279879 0.68555789 0.66930202]\n"
     ]
    }
   ],
   "source": [
    "import numpy as np\n",
    "from scipy.optimize import minimize \n",
    "#import gpyopt.methods\n",
    "\n",
    "# Assuming you have trained your SVC and GPR models already\n",
    "svc = optimal_model  # Your trained SVC model\n",
    "gpr = gpr_model  # Your trained GPR model with Matern kernel\n",
    "\n",
    "global sigma_converge_space\n",
    "sigma_converge_space = []\n",
    "global energy_converge_space\n",
    "energy_converge_space = []\n",
    "\n",
    "\n",
    "def objective_function(x, target_output):\n",
    "    # Ensure that the input is classified as '1' by the SVC\n",
    "    x_scale_class = scaler_x_class.transform([x])\n",
    "    x_scale = scaler_x_regression.transform([x])\n",
    "\n",
    "    if svc.predict(x_scale_class) != 1:\n",
    "        return float('inf')\n",
    "    \n",
    "    # Predict with GPR and get the desired output\n",
    "    gpr_result = gpr.predict(x_scale, return_std=False)\n",
    "    result = scaler_y_regression.inverse_transform(gpr_result)\n",
    "    sigma = result[0][0]\n",
    "    energy = result[0][1]\n",
    "    if target_output == 'sigma':\n",
    "        sigma_converge_space.append(sigma)\n",
    "        return -sigma  # Negative because we are using a minimization function\n",
    "    elif target_output == 'energy':\n",
    "        energy_converge_space.append(energy)\n",
    "        return -energy\n",
    "\n",
    "# Initial guess for the optimizer\n",
    "#initial_guess_sigma = np.array([0.03209863, 0.44897461, 0.66484375])  # Fill with appropriate starting point\n",
    "initial_guess_sigma = best_sigma_input\n",
    "initial_guess_energy = best_energy_input \n",
    "\n",
    "# Initial guess for the optimizer\n",
    "#initial_guess_sigma = np.array([0.0729,1.1426,0.5092])  # Fill with appropriate starting point\n",
    "#initial_guess_energy = np.array([0.039 , 0.763, 0.475])  # Fill with appropriate starting point\n",
    "\n",
    "# Optimize for sigma\n",
    "#result_sigma = minimize(objective_function, initial_guess_sigma, args=('sigma',), method='Nelder-Mead',bounds=[(0,100),(0,100),(0,100)])\n",
    "result_sigma = minimize(objective_function, initial_guess_sigma, args=('sigma',), method='Nelder-Mead',options={'disp': True} )\n",
    "optimal_sigma = -result_sigma.fun  # Negate because we minimized the negative sigma\n",
    "optimal_sigma_input = result_sigma.x\n",
    "\n",
    "# Optimize for energy\n",
    "result_energy = minimize(objective_function, initial_guess_energy, args=('energy',), method='Nelder-Mead',options={'disp': True} )\n",
    "optimal_energy = -result_energy.fun  # Negate because we minimized the negative energy\n",
    "optimal_energy_input = result_energy.x\n",
    "\n",
    "\n",
    "print(\"Optimal Sigma:\", optimal_sigma)\n",
    "print(\"Optimal Sigma inputs:\", optimal_sigma_input)\n",
    "\n",
    "print(\"Optimal Energy:\", optimal_energy)\n",
    "print(\"Optimal Energy inputs:\", optimal_energy_input)\n",
    "\n"
   ]
  },
  {
   "cell_type": "code",
   "execution_count": 102,
   "metadata": {},
   "outputs": [
    {
     "data": {
      "text/plain": [
       "[<matplotlib.lines.Line2D at 0x15b860fd0>]"
      ]
     },
     "execution_count": 102,
     "metadata": {},
     "output_type": "execute_result"
    },
    {
     "data": {
      "image/png": "[encoded data removed]",
      "text/plain": [
       "<Figure size 640x480 with 1 Axes>"
      ]
     },
     "metadata": {},
     "output_type": "display_data"
    }
   ],
   "source": [
    "plt.plot(sigma_converge_space)"
   ]
  },
  {
   "cell_type": "code",
   "execution_count": 77,
   "metadata": {},
   "outputs": [
    {
     "data": {
      "text/plain": [
       "[<matplotlib.lines.Line2D at 0x15b2ad8a0>]"
      ]
     },
     "execution_count": 77,
     "metadata": {},
     "output_type": "execute_result"
    },
    {
     "data": {
      "image/png": "[encoded data removed]",
      "text/plain": [
       "<Figure size 640x480 with 1 Axes>"
      ]
     },
     "metadata": {},
     "output_type": "display_data"
    }
   ],
   "source": [
    "plt.plot(energy_converge_space)"
   ]
  },
  {
   "cell_type": "code",
   "execution_count": 96,
   "metadata": {},
   "outputs": [
    {
     "name": "stdout",
     "output_type": "stream",
     "text": [
      "RUNNING THE L-BFGS-B CODE\n",
      "\n",
      "           * * *\n",
      "\n",
      "Machine precision = 2.220D-16\n",
      " N =            3     M =           10\n",
      "\n",
      "At X0         0 variables are exactly at the bounds\n",
      "\n",
      "At iterate    0    f= -4.97120D+00    |proj g|=  6.21971D+02\n",
      "\n",
      "At iterate    1    f= -9.52217D+00    |proj g|=  1.00651D+03\n",
      "  ys=-2.175E+00  -gs= 3.518E+00 BFGS update SKIPPED\n",
      "\n",
      "           * * *\n",
      "\n",
      "Tit   = total number of iterations\n",
      "Tnf   = total number of function evaluations\n",
      "Tnint = total number of segments explored during Cauchy searches\n",
      "Skip  = number of BFGS updates skipped\n",
      "Nact  = number of active bounds at final generalized Cauchy point\n",
      "Projg = norm of the final projected gradient\n",
      "F     = final function value\n",
      "\n",
      "           * * *\n",
      "\n",
      "   N    Tit     Tnf  Tnint  Skip  Nact     Projg        F\n",
      "    3      2     36      2     1     0   1.007D+03  -9.522D+00\n",
      "  F =  -9.5221656020257726     \n",
      "\n",
      "ABNORMAL_TERMINATION_IN_LNSRCH                              \n",
      "RUNNING THE L-BFGS-B CODE\n",
      "\n",
      "           * * *\n",
      "\n",
      "Machine precision = 2.220D-16\n",
      " N =            3     M =           10\n",
      "\n",
      "At X0         0 variables are exactly at the bounds\n",
      "\n",
      "At iterate    0    f= -3.87313D+00    |proj g|=  4.81781D+02\n",
      "\n",
      "At iterate    1    f= -9.19517D+00    |proj g|=  8.89255D+02\n",
      "  ys=-3.202E+00  -gs= 3.786E+00 BFGS update SKIPPED\n",
      "Optimal Sigma: 9.902020344784066\n",
      "Optimal Sigma inputs: [0.03775279 0.44899505 0.66493261]\n",
      "Optimal Energy: 9.231156173534517\n",
      "Optimal Energy inputs: [0.04162855 0.32096914 0.75808821]\n"
     ]
    },
    {
     "name": "stderr",
     "output_type": "stream",
     "text": [
      " This problem is unconstrained.\n",
      "\n",
      " Line search cannot locate an adequate point after MAXLS\n",
      "  function and gradient evaluations.\n",
      "  Previous x, f and g restored.\n",
      " Possible causes: 1 error in function or gradient evaluation;\n",
      "                  2 rounding error dominate computation.\n",
      " This problem is unconstrained.\n",
      "\n",
      " Line search cannot locate an adequate point after MAXLS\n",
      "  function and gradient evaluations.\n",
      "  Previous x, f and g restored.\n",
      " Possible causes: 1 error in function or gradient evaluation;\n",
      "                  2 rounding error dominate computation.\n"
     ]
    },
    {
     "name": "stdout",
     "output_type": "stream",
     "text": [
      "\n",
      "           * * *\n",
      "\n",
      "Tit   = total number of iterations\n",
      "Tnf   = total number of function evaluations\n",
      "Tnint = total number of segments explored during Cauchy searches\n",
      "Skip  = number of BFGS updates skipped\n",
      "Nact  = number of active bounds at final generalized Cauchy point\n",
      "Projg = norm of the final projected gradient\n",
      "F     = final function value\n",
      "\n",
      "           * * *\n",
      "\n",
      "   N    Tit     Tnf  Tnint  Skip  Nact     Projg        F\n",
      "    3      2     37      2     1     0   8.893D+02  -9.195D+00\n",
      "  F =  -9.1951730764829005     \n",
      "\n",
      "ABNORMAL_TERMINATION_IN_LNSRCH                              \n"
     ]
    }
   ],
   "source": [
    "import numpy as np\n",
    "from scipy.optimize import minimize \n",
    "#import gpyopt.methods\n",
    "\n",
    "# Assuming you have trained your SVC and GPR models already\n",
    "svc = optimal_model  # Your trained SVC model\n",
    "gpr = gpr_model  # Your trained GPR model with Matern kernel\n",
    "\n",
    "global sigma_converge_space\n",
    "sigma_converge_space = []\n",
    "global energy_converge_space\n",
    "energy_converge_space = []\n",
    "\n",
    "\n",
    "def objective_function(x, target_output):\n",
    "    # Ensure that the input is classified as '1' by the SVC\n",
    "    x_scale_class = scaler_x_class.transform([x])\n",
    "    x_scale = scaler_x_regression.transform([x])\n",
    "\n",
    "    if svc.predict(x_scale_class) != 1:\n",
    "        return 10000\n",
    "    \n",
    "    # Predict with GPR and get the desired output\n",
    "    gpr_result = gpr.predict(x_scale, return_std=False)\n",
    "    result = scaler_y_regression.inverse_transform(gpr_result)\n",
    "    sigma = result[0][0]\n",
    "    energy = result[0][1]\n",
    "    if target_output == 'sigma':\n",
    "        sigma_converge_space.append(sigma)\n",
    "        return -sigma  # Negative because we are using a minimization function\n",
    "    elif target_output == 'energy':\n",
    "        energy_converge_space.append(energy)\n",
    "        return -energy\n",
    "\n",
    "# Initial guess for the optimizer\n",
    "initial_guess_sigma = best_sigma_input\n",
    "initial_guess_energy = best_energy_input \n",
    "\n",
    "# Optimize for sigma\n",
    "#result_sigma = minimize(objective_function, initial_guess_sigma, args=('sigma',), method='Nelder-Mead',bounds=[(0,100),(0,100),(0,100)])\n",
    "result_sigma = minimize(objective_function, initial_guess_sigma, args=('sigma',), method='L-BFGS-B',options={'disp': True} )\n",
    "optimal_sigma = -result_sigma.fun  # Negate because we minimized the negative sigma\n",
    "optimal_sigma_input = result_sigma.x\n",
    "\n",
    "# Optimize for energy\n",
    "result_energy = minimize(objective_function, initial_guess_energy, args=('energy',), method='L-BFGS-B',options={'disp': True} )\n",
    "optimal_energy = -result_energy.fun  # Negate because we minimized the negative energy\n",
    "optimal_energy_input = result_energy.x\n",
    "\n",
    "\n",
    "print(\"Optimal Sigma:\", optimal_sigma)\n",
    "print(\"Optimal Sigma inputs:\", optimal_sigma_input)\n",
    "\n",
    "print(\"Optimal Energy:\", optimal_energy)\n",
    "print(\"Optimal Energy inputs:\", optimal_energy_input)\n",
    "\n"
   ]
  },
  {
   "cell_type": "code",
   "execution_count": 97,
   "metadata": {},
   "outputs": [
    {
     "data": {
      "text/plain": [
       "[<matplotlib.lines.Line2D at 0x15b2aed70>]"
      ]
     },
     "execution_count": 97,
     "metadata": {},
     "output_type": "execute_result"
    },
    {
     "data": {
      "image/png": "[encoded data removed]",
      "text/plain": [
       "<Figure size 640x480 with 1 Axes>"
      ]
     },
     "metadata": {},
     "output_type": "display_data"
    }
   ],
   "source": [
    "plt.plot(sigma_converge_space)"
   ]
  },
  {
   "cell_type": "code",
   "execution_count": 98,
   "metadata": {},
   "outputs": [
    {
     "data": {
      "text/plain": [
       "[<matplotlib.lines.Line2D at 0x15b7ebeb0>]"
      ]
     },
     "execution_count": 98,
     "metadata": {},
     "output_type": "execute_result"
    },
    {
     "data": {
      "image/png": "[encoded data removed]",
      "text/plain": [
       "<Figure size 640x480 with 1 Axes>"
      ]
     },
     "metadata": {},
     "output_type": "display_data"
    }
   ],
   "source": [
    "plt.plot(energy_converge_space)"
   ]
  },
  {
   "cell_type": "code",
   "execution_count": 81,
   "metadata": {},
   "outputs": [
    {
     "name": "stdout",
     "output_type": "stream",
     "text": [
      "Optimal Sigma: 9.971000181874103\n",
      "Optimal Sigma inputs: [0.03818799 0.449018   0.66509277]\n",
      "Optimal Energy: 9.277061189641746\n",
      "Optimal Energy inputs: [0.04169868 0.32107807 0.75861676]\n"
     ]
    },
    {
     "name": "stderr",
     "output_type": "stream",
     "text": [
      "  NIT   NF   F                       GTG\n",
      "    0    1 -4.971195617965455E+00   3.86948584E+05\n",
      "tnc: fscale = 0.00155727\n",
      "    1   30 -9.971000181874103E+00   1.00019943E+26\n",
      "tnc: fscale = 9.68803e-14\n",
      "    1   45 -9.971000181874103E+00   1.00019943E+26\n",
      "tnc: Linear search failed\n",
      "  NIT   NF   F                       GTG\n",
      "    0    1 -3.873132007948959E+00   2.32506419E+05\n",
      "tnc: fscale = 0.00200348\n",
      "    1   30 -9.277061189641746E+00   1.00018555E+26\n",
      "tnc: fscale = 9.67231e-14\n",
      "    1   44 -9.277061189641746E+00   1.00018555E+26\n",
      "tnc: Linear search failed\n"
     ]
    }
   ],
   "source": [
    "import numpy as np\n",
    "from scipy.optimize import minimize \n",
    "#import gpyopt.methods\n",
    "\n",
    "# Assuming you have trained your SVC and GPR models already\n",
    "svc = optimal_model  # Your trained SVC model\n",
    "gpr = gpr_model  # Your trained GPR model with Matern kernel\n",
    "\n",
    "global sigma_converge_space\n",
    "sigma_converge_space = []\n",
    "global energy_converge_space\n",
    "energy_converge_space = []\n",
    "\n",
    "\n",
    "def objective_function(x, target_output):\n",
    "    # Ensure that the input is classified as '1' by the SVC\n",
    "    x_scale_class = scaler_x_class.transform([x])\n",
    "    x_scale = scaler_x_regression.transform([x])\n",
    "\n",
    "    if svc.predict(x_scale_class) != 1:\n",
    "        return 100000\n",
    "    \n",
    "    # Predict with GPR and get the desired output\n",
    "    gpr_result = gpr.predict(x_scale, return_std=False)\n",
    "    result = scaler_y_regression.inverse_transform(gpr_result)\n",
    "    sigma = result[0][0]\n",
    "    energy = result[0][1]\n",
    "    if target_output == 'sigma':\n",
    "        sigma_converge_space.append(sigma)\n",
    "        return -sigma  # Negative because we are using a minimization function\n",
    "    elif target_output == 'energy':\n",
    "        energy_converge_space.append(energy)\n",
    "        return -energy\n",
    "\n",
    "# Initial guess for the optimizer\n",
    "initial_guess_sigma = best_sigma_input\n",
    "initial_guess_energy = best_energy_input \n",
    "\n",
    "# Optimize for sigma\n",
    "#result_sigma = minimize(objective_function, initial_guess_sigma, args=('sigma',), method='Nelder-Mead',bounds=[(0,100),(0,100),(0,100)])\n",
    "result_sigma = minimize(objective_function, initial_guess_sigma, args=('sigma',), method='TNC',options={'disp': True} )\n",
    "optimal_sigma = -result_sigma.fun  # Negate because we minimized the negative sigma\n",
    "optimal_sigma_input = result_sigma.x\n",
    "\n",
    "# Optimize for energy\n",
    "result_energy = minimize(objective_function, initial_guess_energy, args=('energy',), method='TNC',options={'disp': True} )\n",
    "optimal_energy = -result_energy.fun  # Negate because we minimized the negative energy\n",
    "optimal_energy_input = result_energy.x\n",
    "\n",
    "\n",
    "print(\"Optimal Sigma:\", optimal_sigma)\n",
    "print(\"Optimal Sigma inputs:\", optimal_sigma_input)\n",
    "\n",
    "print(\"Optimal Energy:\", optimal_energy)\n",
    "print(\"Optimal Energy inputs:\", optimal_energy_input)\n",
    "\n"
   ]
  },
  {
   "cell_type": "code",
   "execution_count": 82,
   "metadata": {},
   "outputs": [
    {
     "data": {
      "text/plain": [
       "[<matplotlib.lines.Line2D at 0x15b35d780>]"
      ]
     },
     "execution_count": 82,
     "metadata": {},
     "output_type": "execute_result"
    },
    {
     "data": {
      "image/png": "[encoded data removed]",
      "text/plain": [
       "<Figure size 640x480 with 1 Axes>"
      ]
     },
     "metadata": {},
     "output_type": "display_data"
    }
   ],
   "source": [
    "plt.plot(sigma_converge_space)"
   ]
  },
  {
   "cell_type": "code",
   "execution_count": 83,
   "metadata": {},
   "outputs": [
    {
     "data": {
      "text/plain": [
       "[<matplotlib.lines.Line2D at 0x15b472da0>]"
      ]
     },
     "execution_count": 83,
     "metadata": {},
     "output_type": "execute_result"
    },
    {
     "data": {
      "image/png": "[encoded data removed]",
      "text/plain": [
       "<Figure size 640x480 with 1 Axes>"
      ]
     },
     "metadata": {},
     "output_type": "display_data"
    }
   ],
   "source": [
    "plt.plot(energy_converge_space)"
   ]
  }
 ],
 "metadata": {
  "kernelspec": {
   "display_name": "3dasm",
   "language": "python",
   "name": "python3"
  },
  "language_info": {
   "codemirror_mode": {
    "name": "ipython",
    "version": 3
   },
   "file_extension": ".py",
   "mimetype": "text/x-python",
   "name": "python",
   "nbconvert_exporter": "python",
   "pygments_lexer": "ipython3",
   "version": "3.10.12"
  }
 },
 "nbformat": 4,
 "nbformat_minor": 5
}
